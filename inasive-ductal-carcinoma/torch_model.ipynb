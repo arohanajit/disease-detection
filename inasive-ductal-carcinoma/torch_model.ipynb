{
  "nbformat": 4,
  "nbformat_minor": 0,
  "metadata": {
    "colab": {
      "name": "Untitled10.ipynb",
      "provenance": [],
      "private_outputs": true,
      "collapsed_sections": [],
      "authorship_tag": "ABX9TyMEMsiYOaC8oEAv9GOZPpNZ",
      "include_colab_link": true
    },
    "kernelspec": {
      "name": "python3",
      "display_name": "Python 3"
    },
    "accelerator": "GPU"
  },
  "cells": [
    {
      "cell_type": "markdown",
      "metadata": {
        "id": "view-in-github",
        "colab_type": "text"
      },
      "source": [
        "<a href=\"https://colab.research.google.com/github/arohanajit/disease-detector/blob/master/inasive-ductal-carcinoma/torch_model.ipynb\" target=\"_parent\"><img src=\"https://colab.research.google.com/assets/colab-badge.svg\" alt=\"Open In Colab\"/></a>"
      ]
    },
    {
      "cell_type": "code",
      "metadata": {
        "id": "6KKarJfKHZiM",
        "colab_type": "code",
        "colab": {}
      },
      "source": [
        "import os\n",
        "import numpy as np\n",
        "import pandas as pd\n",
        "import matplotlib.pyplot as plt\n",
        "import torch\n",
        "import torch.nn as nn\n",
        "import torch.nn.functional as F\n",
        "from torchsummary import summary\n",
        "from torch import optim\n",
        "from torch.utils.data import DataLoader, TensorDataset, random_split\n",
        "from torch.utils.data.sampler import SubsetRandomSampler\n",
        "from torchvision.datasets import ImageFolder\n",
        "import torchvision.transforms as transforms\n",
        "from sklearn.model_selection import train_test_split\n",
        "from sklearn.preprocessing import MinMaxScaler\n",
        "from sklearn.metrics import accuracy_score\n",
        "from tqdm import tqdm_notebook\n",
        "import shutil\n",
        "train_on_gpu = torch.cuda.is_available()\n",
        "print(train_on_gpu)"
      ],
      "execution_count": 0,
      "outputs": []
    },
    {
      "cell_type": "code",
      "metadata": {
        "id": "rogOZVNEHkJO",
        "colab_type": "code",
        "colab": {}
      },
      "source": [
        "%%capture\n",
        "if 'loader.py' not in os.listdir():\n",
        "    !wget https://raw.githubusercontent.com/arohanajit/disease-detector/master/loader.py\n",
        "import loader\n",
        "if 'breast-histopathology-images.zip' not in os.listdir():\n",
        "    loader.load_data()\n",
        "    !kaggle datasets download -d paultimothymooney/breast-histopathology-images\n",
        "    !unzip breast-histopathology-images.zip\n",
        "    for i in os.listdir():\n",
        "        try:\n",
        "            a = int(i[0])\n",
        "            shutil.rmtree(i,ignore_errors=True)\n",
        "        except:\n",
        "            continue"
      ],
      "execution_count": 0,
      "outputs": []
    },
    {
      "cell_type": "code",
      "metadata": {
        "id": "g3MixSlxII4s",
        "colab_type": "code",
        "colab": {}
      },
      "source": [
        "from glob import glob\n",
        "imagePatches = glob('IDC_regular_ps50_idx5/**/*.png', recursive=True)\n",
        "print(len(imagePatches))"
      ],
      "execution_count": 0,
      "outputs": []
    },
    {
      "cell_type": "code",
      "metadata": {
        "id": "jVOHBuHNJ-OK",
        "colab_type": "code",
        "colab": {}
      },
      "source": [
        "data_df = pd.DataFrame(index=np.arange(0, len(imagePatches)), columns=[\"pid\", \"img\", \"label\"])\n",
        "base_dir = 'IDC_regular_ps50_idx5/'\n",
        "count = 0\n",
        "for i in os.listdir(base_dir):\n",
        "    pid = i\n",
        "    patient_path = base_dir + pid\n",
        "    lbl = [0,1]\n",
        "    for j in lbl:\n",
        "        img_path = patient_path + '/' + str(j) + '/'\n",
        "        for k in os.listdir(img_path):\n",
        "            data_df.iloc[count][\"pid\"] = pid\n",
        "            data_df.iloc[count][\"img\"] = img_path+'/'+k\n",
        "            data_df.iloc[count][\"label\"] = j\n",
        "            if count%50000==0:\n",
        "                print(\"{} Done\".format(count))\n",
        "            count+=1\n"
      ],
      "execution_count": 0,
      "outputs": []
    },
    {
      "cell_type": "code",
      "metadata": {
        "id": "B60IX9wlKJ16",
        "colab_type": "code",
        "colab": {}
      },
      "source": [
        "print(data_df.shape)\n",
        "data_df.head()"
      ],
      "execution_count": 0,
      "outputs": []
    },
    {
      "cell_type": "code",
      "metadata": {
        "id": "ILRQM1WqK4pD",
        "colab_type": "code",
        "colab": {}
      },
      "source": [
        ""
      ],
      "execution_count": 0,
      "outputs": []
    }
  ]
}