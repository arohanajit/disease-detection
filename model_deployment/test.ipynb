{
 "metadata": {
  "language_info": {
   "codemirror_mode": {
    "name": "ipython",
    "version": 3
   },
   "file_extension": ".py",
   "mimetype": "text/x-python",
   "name": "python",
   "nbconvert_exporter": "python",
   "pygments_lexer": "ipython3",
   "version": "3.7.6-final"
  },
  "orig_nbformat": 2,
  "kernelspec": {
   "name": "python3",
   "display_name": "Python 3"
  }
 },
 "nbformat": 4,
 "nbformat_minor": 2,
 "cells": [
  {
   "cell_type": "code",
   "execution_count": 4,
   "metadata": {},
   "outputs": [],
   "source": [
    "import pandas as pd"
   ]
  },
  {
   "cell_type": "code",
   "execution_count": 5,
   "metadata": {},
   "outputs": [
    {
     "output_type": "execute_result",
     "data": {
      "text/plain": [
       "    Disease     City                                          Hospital  \\\n",
       "0  Glaucoma    delhi  Dr. Rohit Pahwa's InstaVision Eye & Lasik Centre   \n",
       "1  Glaucoma    delhi                                Avlokan Eye Centre   \n",
       "2  Glaucoma    delhi                                  Delhi Eye Centre   \n",
       "3  Glaucoma   mumbai                                 Global Eye Clinic   \n",
       "4  Glaucoma   mumbai                              Eye Solutions Clinic   \n",
       "5  Glaucoma   mumbai                       Palaks Glaucoma Care Centre   \n",
       "6  Glaucoma  kolkata                           Dr. Prashant Srivastava   \n",
       "7  Glaucoma  kolkata                                     Dr Kumar Ravi   \n",
       "8  Glaucoma  kolkata                                 Dr Sagar Bhargava   \n",
       "9   Malaria    delhi                      Aruna Asaf Ali Govt Hospital   \n",
       "\n",
       "                                 Treatment  \n",
       "0                                 eyedrops  \n",
       "1                          laser treatment  \n",
       "2                                  surgery  \n",
       "3                                 eyedrops  \n",
       "4                          laser treatment  \n",
       "5                                  surgery  \n",
       "6                                 eyedrops  \n",
       "7                          laser treatment  \n",
       "8                                  surgery  \n",
       "9  Combination of atovaquone and proguanil  "
      ],
      "text/html": "<div>\n<style scoped>\n    .dataframe tbody tr th:only-of-type {\n        vertical-align: middle;\n    }\n\n    .dataframe tbody tr th {\n        vertical-align: top;\n    }\n\n    .dataframe thead th {\n        text-align: right;\n    }\n</style>\n<table border=\"1\" class=\"dataframe\">\n  <thead>\n    <tr style=\"text-align: right;\">\n      <th></th>\n      <th>Disease</th>\n      <th>City</th>\n      <th>Hospital</th>\n      <th>Treatment</th>\n    </tr>\n  </thead>\n  <tbody>\n    <tr>\n      <th>0</th>\n      <td>Glaucoma</td>\n      <td>delhi</td>\n      <td>Dr. Rohit Pahwa's InstaVision Eye &amp; Lasik Centre</td>\n      <td>eyedrops</td>\n    </tr>\n    <tr>\n      <th>1</th>\n      <td>Glaucoma</td>\n      <td>delhi</td>\n      <td>Avlokan Eye Centre</td>\n      <td>laser treatment</td>\n    </tr>\n    <tr>\n      <th>2</th>\n      <td>Glaucoma</td>\n      <td>delhi</td>\n      <td>Delhi Eye Centre</td>\n      <td>surgery</td>\n    </tr>\n    <tr>\n      <th>3</th>\n      <td>Glaucoma</td>\n      <td>mumbai</td>\n      <td>Global Eye Clinic</td>\n      <td>eyedrops</td>\n    </tr>\n    <tr>\n      <th>4</th>\n      <td>Glaucoma</td>\n      <td>mumbai</td>\n      <td>Eye Solutions Clinic</td>\n      <td>laser treatment</td>\n    </tr>\n    <tr>\n      <th>5</th>\n      <td>Glaucoma</td>\n      <td>mumbai</td>\n      <td>Palaks Glaucoma Care Centre</td>\n      <td>surgery</td>\n    </tr>\n    <tr>\n      <th>6</th>\n      <td>Glaucoma</td>\n      <td>kolkata</td>\n      <td>Dr. Prashant Srivastava</td>\n      <td>eyedrops</td>\n    </tr>\n    <tr>\n      <th>7</th>\n      <td>Glaucoma</td>\n      <td>kolkata</td>\n      <td>Dr Kumar Ravi</td>\n      <td>laser treatment</td>\n    </tr>\n    <tr>\n      <th>8</th>\n      <td>Glaucoma</td>\n      <td>kolkata</td>\n      <td>Dr Sagar Bhargava</td>\n      <td>surgery</td>\n    </tr>\n    <tr>\n      <th>9</th>\n      <td>Malaria</td>\n      <td>delhi</td>\n      <td>Aruna Asaf Ali Govt Hospital</td>\n      <td>Combination of atovaquone and proguanil</td>\n    </tr>\n  </tbody>\n</table>\n</div>"
     },
     "metadata": {},
     "execution_count": 5
    }
   ],
   "source": [
    "df = pd.read_csv('hospital.csv')\n",
    "df.head(10)"
   ]
  },
  {
   "cell_type": "code",
   "execution_count": 10,
   "metadata": {},
   "outputs": [],
   "source": [
    "a = df.loc[(df['Disease']=='Breast Cancer') & (df['City']=='mumbai')]['Hospital']"
   ]
  },
  {
   "cell_type": "code",
   "execution_count": 11,
   "metadata": {},
   "outputs": [
    {
     "output_type": "execute_result",
     "data": {
      "text/plain": [
       "21    Dr. Dale Rodrigues Cancer Center\n",
       "22                   Somaiya Ayurvihar\n",
       "23                 Sun Cancer Hospital\n",
       "Name: Hospital, dtype: object"
      ]
     },
     "metadata": {},
     "execution_count": 11
    }
   ],
   "source": [
    "a"
   ]
  },
  {
   "cell_type": "code",
   "execution_count": 12,
   "metadata": {},
   "outputs": [],
   "source": [
    "b = df.loc[(df['Disease']=='Breast Cancer') & (df['City']=='delhi')]['Treatment']"
   ]
  },
  {
   "cell_type": "code",
   "execution_count": 13,
   "metadata": {},
   "outputs": [
    {
     "output_type": "execute_result",
     "data": {
      "text/plain": [
       "18         Chemotherapy\n",
       "19     Hormonal therapy\n",
       "20    Radiation therapy\n",
       "Name: Treatment, dtype: object"
      ]
     },
     "metadata": {},
     "execution_count": 13
    }
   ],
   "source": [
    "b"
   ]
  },
  {
   "cell_type": "code",
   "execution_count": null,
   "metadata": {},
   "outputs": [],
   "source": []
  }
 ]
}