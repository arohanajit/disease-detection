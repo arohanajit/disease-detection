{
 "metadata": {
  "language_info": {
   "codemirror_mode": {
    "name": "ipython",
    "version": 3
   },
   "file_extension": ".py",
   "mimetype": "text/x-python",
   "name": "python",
   "nbconvert_exporter": "python",
   "pygments_lexer": "ipython3",
   "version": "3.7.6-final"
  },
  "orig_nbformat": 2,
  "kernelspec": {
   "name": "Python 3.7.6 64-bit (conda)",
   "display_name": "Python 3.7.6 64-bit (conda)",
   "metadata": {
    "interpreter": {
     "hash": "9e60dd6edbd4d0e14d4d099e0f261d98e02cb786d133bc94f7a56505e2206115"
    }
   }
  }
 },
 "nbformat": 4,
 "nbformat_minor": 2,
 "cells": [
  {
   "cell_type": "code",
   "execution_count": 57,
   "metadata": {},
   "outputs": [],
   "source": [
    "import numpy as np\n",
    "import pandas as pd\n",
    "import seaborn as sns\n",
    "import matplotlib.pyplot as plt\n",
    "from sklearn.model_selection import train_test_split, GridSearchCV\n",
    "from sklearn.metrics import roc_curve, auc, confusion_matrix, classification_report,accuracy_score\n",
    "from sklearn.ensemble import RandomForestClassifier\n",
    "from sklearn.preprocessing import MinMaxScaler\n",
    "import pickle"
   ]
  },
  {
   "cell_type": "code",
   "execution_count": 58,
   "metadata": {},
   "outputs": [
    {
     "output_type": "execute_result",
     "data": {
      "text/plain": [
       "   id   age    bp     sg   al   su     rbc        pc         pcc          ba  \\\n",
       "0   0  48.0  80.0  1.020  1.0  0.0     NaN    normal  notpresent  notpresent   \n",
       "1   1   7.0  50.0  1.020  4.0  0.0     NaN    normal  notpresent  notpresent   \n",
       "2   2  62.0  80.0  1.010  2.0  3.0  normal    normal  notpresent  notpresent   \n",
       "3   3  48.0  70.0  1.005  4.0  0.0  normal  abnormal     present  notpresent   \n",
       "4   4  51.0  80.0  1.010  2.0  0.0  normal    normal  notpresent  notpresent   \n",
       "\n",
       "   ...  pcv    wc   rc  htn   dm  cad appet   pe  ane classification  \n",
       "0  ...   44  7800  5.2  yes  yes   no  good   no   no            ckd  \n",
       "1  ...   38  6000  NaN   no   no   no  good   no   no            ckd  \n",
       "2  ...   31  7500  NaN   no  yes   no  poor   no  yes            ckd  \n",
       "3  ...   32  6700  3.9  yes   no   no  poor  yes  yes            ckd  \n",
       "4  ...   35  7300  4.6   no   no   no  good   no   no            ckd  \n",
       "\n",
       "[5 rows x 26 columns]"
      ],
      "text/html": "<div>\n<style scoped>\n    .dataframe tbody tr th:only-of-type {\n        vertical-align: middle;\n    }\n\n    .dataframe tbody tr th {\n        vertical-align: top;\n    }\n\n    .dataframe thead th {\n        text-align: right;\n    }\n</style>\n<table border=\"1\" class=\"dataframe\">\n  <thead>\n    <tr style=\"text-align: right;\">\n      <th></th>\n      <th>id</th>\n      <th>age</th>\n      <th>bp</th>\n      <th>sg</th>\n      <th>al</th>\n      <th>su</th>\n      <th>rbc</th>\n      <th>pc</th>\n      <th>pcc</th>\n      <th>ba</th>\n      <th>...</th>\n      <th>pcv</th>\n      <th>wc</th>\n      <th>rc</th>\n      <th>htn</th>\n      <th>dm</th>\n      <th>cad</th>\n      <th>appet</th>\n      <th>pe</th>\n      <th>ane</th>\n      <th>classification</th>\n    </tr>\n  </thead>\n  <tbody>\n    <tr>\n      <th>0</th>\n      <td>0</td>\n      <td>48.0</td>\n      <td>80.0</td>\n      <td>1.020</td>\n      <td>1.0</td>\n      <td>0.0</td>\n      <td>NaN</td>\n      <td>normal</td>\n      <td>notpresent</td>\n      <td>notpresent</td>\n      <td>...</td>\n      <td>44</td>\n      <td>7800</td>\n      <td>5.2</td>\n      <td>yes</td>\n      <td>yes</td>\n      <td>no</td>\n      <td>good</td>\n      <td>no</td>\n      <td>no</td>\n      <td>ckd</td>\n    </tr>\n    <tr>\n      <th>1</th>\n      <td>1</td>\n      <td>7.0</td>\n      <td>50.0</td>\n      <td>1.020</td>\n      <td>4.0</td>\n      <td>0.0</td>\n      <td>NaN</td>\n      <td>normal</td>\n      <td>notpresent</td>\n      <td>notpresent</td>\n      <td>...</td>\n      <td>38</td>\n      <td>6000</td>\n      <td>NaN</td>\n      <td>no</td>\n      <td>no</td>\n      <td>no</td>\n      <td>good</td>\n      <td>no</td>\n      <td>no</td>\n      <td>ckd</td>\n    </tr>\n    <tr>\n      <th>2</th>\n      <td>2</td>\n      <td>62.0</td>\n      <td>80.0</td>\n      <td>1.010</td>\n      <td>2.0</td>\n      <td>3.0</td>\n      <td>normal</td>\n      <td>normal</td>\n      <td>notpresent</td>\n      <td>notpresent</td>\n      <td>...</td>\n      <td>31</td>\n      <td>7500</td>\n      <td>NaN</td>\n      <td>no</td>\n      <td>yes</td>\n      <td>no</td>\n      <td>poor</td>\n      <td>no</td>\n      <td>yes</td>\n      <td>ckd</td>\n    </tr>\n    <tr>\n      <th>3</th>\n      <td>3</td>\n      <td>48.0</td>\n      <td>70.0</td>\n      <td>1.005</td>\n      <td>4.0</td>\n      <td>0.0</td>\n      <td>normal</td>\n      <td>abnormal</td>\n      <td>present</td>\n      <td>notpresent</td>\n      <td>...</td>\n      <td>32</td>\n      <td>6700</td>\n      <td>3.9</td>\n      <td>yes</td>\n      <td>no</td>\n      <td>no</td>\n      <td>poor</td>\n      <td>yes</td>\n      <td>yes</td>\n      <td>ckd</td>\n    </tr>\n    <tr>\n      <th>4</th>\n      <td>4</td>\n      <td>51.0</td>\n      <td>80.0</td>\n      <td>1.010</td>\n      <td>2.0</td>\n      <td>0.0</td>\n      <td>normal</td>\n      <td>normal</td>\n      <td>notpresent</td>\n      <td>notpresent</td>\n      <td>...</td>\n      <td>35</td>\n      <td>7300</td>\n      <td>4.6</td>\n      <td>no</td>\n      <td>no</td>\n      <td>no</td>\n      <td>good</td>\n      <td>no</td>\n      <td>no</td>\n      <td>ckd</td>\n    </tr>\n  </tbody>\n</table>\n<p>5 rows × 26 columns</p>\n</div>"
     },
     "metadata": {},
     "execution_count": 58
    }
   ],
   "source": [
    "df = pd.read_csv(\"kidney_disease.csv\")\n",
    "df.head()"
   ]
  },
  {
   "cell_type": "code",
   "execution_count": 59,
   "metadata": {},
   "outputs": [
    {
     "output_type": "execute_result",
     "data": {
      "text/plain": [
       "   id   age    bp     sg   al   su  rbc   pc  pcc   ba  ...  pcv    wc   rc  \\\n",
       "0   0  48.0  80.0  1.020  1.0  0.0  NaN  0.0  0.0  0.0  ...   44  7800  5.2   \n",
       "1   1   7.0  50.0  1.020  4.0  0.0  NaN  0.0  0.0  0.0  ...   38  6000  NaN   \n",
       "2   2  62.0  80.0  1.010  2.0  3.0  0.0  0.0  0.0  0.0  ...   31  7500  NaN   \n",
       "3   3  48.0  70.0  1.005  4.0  0.0  0.0  1.0  1.0  0.0  ...   32  6700  3.9   \n",
       "4   4  51.0  80.0  1.010  2.0  0.0  0.0  0.0  0.0  0.0  ...   35  7300  4.6   \n",
       "\n",
       "   htn  dm  cad appet   pe  ane  class  \n",
       "0  1.0   1    0   1.0  0.0  0.0    1.0  \n",
       "1  0.0   0    0   1.0  0.0  0.0    1.0  \n",
       "2  0.0   1    0   0.0  0.0  1.0    1.0  \n",
       "3  1.0   0    0   0.0  1.0  1.0    1.0  \n",
       "4  0.0   0    0   1.0  0.0  0.0    1.0  \n",
       "\n",
       "[5 rows x 26 columns]"
      ],
      "text/html": "<div>\n<style scoped>\n    .dataframe tbody tr th:only-of-type {\n        vertical-align: middle;\n    }\n\n    .dataframe tbody tr th {\n        vertical-align: top;\n    }\n\n    .dataframe thead th {\n        text-align: right;\n    }\n</style>\n<table border=\"1\" class=\"dataframe\">\n  <thead>\n    <tr style=\"text-align: right;\">\n      <th></th>\n      <th>id</th>\n      <th>age</th>\n      <th>bp</th>\n      <th>sg</th>\n      <th>al</th>\n      <th>su</th>\n      <th>rbc</th>\n      <th>pc</th>\n      <th>pcc</th>\n      <th>ba</th>\n      <th>...</th>\n      <th>pcv</th>\n      <th>wc</th>\n      <th>rc</th>\n      <th>htn</th>\n      <th>dm</th>\n      <th>cad</th>\n      <th>appet</th>\n      <th>pe</th>\n      <th>ane</th>\n      <th>class</th>\n    </tr>\n  </thead>\n  <tbody>\n    <tr>\n      <th>0</th>\n      <td>0</td>\n      <td>48.0</td>\n      <td>80.0</td>\n      <td>1.020</td>\n      <td>1.0</td>\n      <td>0.0</td>\n      <td>NaN</td>\n      <td>0.0</td>\n      <td>0.0</td>\n      <td>0.0</td>\n      <td>...</td>\n      <td>44</td>\n      <td>7800</td>\n      <td>5.2</td>\n      <td>1.0</td>\n      <td>1</td>\n      <td>0</td>\n      <td>1.0</td>\n      <td>0.0</td>\n      <td>0.0</td>\n      <td>1.0</td>\n    </tr>\n    <tr>\n      <th>1</th>\n      <td>1</td>\n      <td>7.0</td>\n      <td>50.0</td>\n      <td>1.020</td>\n      <td>4.0</td>\n      <td>0.0</td>\n      <td>NaN</td>\n      <td>0.0</td>\n      <td>0.0</td>\n      <td>0.0</td>\n      <td>...</td>\n      <td>38</td>\n      <td>6000</td>\n      <td>NaN</td>\n      <td>0.0</td>\n      <td>0</td>\n      <td>0</td>\n      <td>1.0</td>\n      <td>0.0</td>\n      <td>0.0</td>\n      <td>1.0</td>\n    </tr>\n    <tr>\n      <th>2</th>\n      <td>2</td>\n      <td>62.0</td>\n      <td>80.0</td>\n      <td>1.010</td>\n      <td>2.0</td>\n      <td>3.0</td>\n      <td>0.0</td>\n      <td>0.0</td>\n      <td>0.0</td>\n      <td>0.0</td>\n      <td>...</td>\n      <td>31</td>\n      <td>7500</td>\n      <td>NaN</td>\n      <td>0.0</td>\n      <td>1</td>\n      <td>0</td>\n      <td>0.0</td>\n      <td>0.0</td>\n      <td>1.0</td>\n      <td>1.0</td>\n    </tr>\n    <tr>\n      <th>3</th>\n      <td>3</td>\n      <td>48.0</td>\n      <td>70.0</td>\n      <td>1.005</td>\n      <td>4.0</td>\n      <td>0.0</td>\n      <td>0.0</td>\n      <td>1.0</td>\n      <td>1.0</td>\n      <td>0.0</td>\n      <td>...</td>\n      <td>32</td>\n      <td>6700</td>\n      <td>3.9</td>\n      <td>1.0</td>\n      <td>0</td>\n      <td>0</td>\n      <td>0.0</td>\n      <td>1.0</td>\n      <td>1.0</td>\n      <td>1.0</td>\n    </tr>\n    <tr>\n      <th>4</th>\n      <td>4</td>\n      <td>51.0</td>\n      <td>80.0</td>\n      <td>1.010</td>\n      <td>2.0</td>\n      <td>0.0</td>\n      <td>0.0</td>\n      <td>0.0</td>\n      <td>0.0</td>\n      <td>0.0</td>\n      <td>...</td>\n      <td>35</td>\n      <td>7300</td>\n      <td>4.6</td>\n      <td>0.0</td>\n      <td>0</td>\n      <td>0</td>\n      <td>1.0</td>\n      <td>0.0</td>\n      <td>0.0</td>\n      <td>1.0</td>\n    </tr>\n  </tbody>\n</table>\n<p>5 rows × 26 columns</p>\n</div>"
     },
     "metadata": {},
     "execution_count": 59
    }
   ],
   "source": [
    "df[['htn','dm','cad','pe','ane']] = df[['htn','dm','cad','pe','ane']].replace(to_replace={'yes':1,'no':0})\n",
    "df[['rbc','pc']] = df[['rbc','pc']].replace(to_replace={'abnormal':1,'normal':0})\n",
    "df[['pcc','ba']] = df[['pcc','ba']].replace(to_replace={'present':1,'notpresent':0})\n",
    "df[['appet']] = df[['appet']].replace(to_replace={'good':1,'poor':0,'no':np.nan})\n",
    "df['classification'] = df['classification'].replace(to_replace={'ckd':1.0,'ckd\\t':1.0,'notckd':0.0,'no':0.0})\n",
    "df.rename(columns={'classification':'class'},inplace=True)\n",
    "df.head()"
   ]
  },
  {
   "cell_type": "code",
   "execution_count": 60,
   "metadata": {},
   "outputs": [],
   "source": [
    "# Further cleaning\n",
    "df['pe'] = df['pe'].replace(to_replace='good',value=0) # Not having pedal edema is good\n",
    "df['appet'] = df['appet'].replace(to_replace='no',value=0)\n",
    "df['cad'] = df['cad'].replace(to_replace='\\tno',value=0)\n",
    "df['dm'] = df['dm'].replace(to_replace={'\\tno':0,'\\tyes':1,' yes':1, '':np.nan})\n",
    "df.drop('id',axis=1,inplace=True)"
   ]
  },
  {
   "cell_type": "code",
   "execution_count": 61,
   "metadata": {},
   "outputs": [
    {
     "output_type": "execute_result",
     "data": {
      "text/plain": [
       "Index(['age', 'bp', 'sg', 'al', 'su', 'rbc', 'pc', 'pcc', 'ba', 'bgr', 'bu',\n",
       "       'sc', 'sod', 'pot', 'hemo', 'pcv', 'wc', 'rc', 'htn', 'dm', 'cad',\n",
       "       'appet', 'pe', 'ane', 'class'],\n",
       "      dtype='object')"
      ]
     },
     "metadata": {},
     "execution_count": 61
    }
   ],
   "source": [
    "df = df.dropna(axis=0)\n",
    "df.columns"
   ]
  },
  {
   "cell_type": "code",
   "execution_count": 62,
   "metadata": {},
   "outputs": [],
   "source": [
    "x = df.drop(['class'], axis = 1)\n",
    "y = df['class']\n",
    "cols = x.columns\n",
    "vals = list(x.iloc[0])"
   ]
  },
  {
   "cell_type": "code",
   "execution_count": 71,
   "metadata": {},
   "outputs": [],
   "source": [
    "x_train, x_test, y_train, y_test = train_test_split(x,y,test_size = 0.2, random_state = 5)\n",
    "feature_scaler = MinMaxScaler()\n",
    "x_train = feature_scaler.fit_transform(x_train)\n",
    "x_test = feature_scaler.transform(x_test)"
   ]
  },
  {
   "cell_type": "code",
   "execution_count": 15,
   "metadata": {},
   "outputs": [
    {
     "output_type": "execute_result",
     "data": {
      "text/plain": [
       "1.0"
      ]
     },
     "metadata": {},
     "execution_count": 15
    }
   ],
   "source": [
    "tuned_parameters = [{'n_estimators':[7,8,9,10,11,12,13,14,15,16],'max_depth':[2,3,4,5,6,None],\n",
    "                     'class_weight':[None,{0: 0.33,1:0.67},'balanced'],'random_state':[42]}]\n",
    "clf = GridSearchCV(RandomForestClassifier(), tuned_parameters, cv=10,scoring='f1')\n",
    "clf.fit(x_train, y_train)\n",
    "clf.best_score_"
   ]
  },
  {
   "cell_type": "code",
   "execution_count": 16,
   "metadata": {},
   "outputs": [
    {
     "output_type": "execute_result",
     "data": {
      "text/plain": [
       "{'class_weight': None, 'max_depth': 2, 'n_estimators': 8, 'random_state': 42}"
      ]
     },
     "metadata": {},
     "execution_count": 16
    }
   ],
   "source": [
    "clf.best_params_"
   ]
  },
  {
   "cell_type": "code",
   "execution_count": 18,
   "metadata": {},
   "outputs": [
    {
     "output_type": "stream",
     "name": "stdout",
     "text": [
      "Detailed classification report:\n              precision    recall  f1-score   support\n\n         0.0       1.00      1.00      1.00        23\n         1.0       1.00      1.00      1.00         9\n\n    accuracy                           1.00        32\n   macro avg       1.00      1.00      1.00        32\nweighted avg       1.00      1.00      1.00        32\n\n"
     ]
    }
   ],
   "source": [
    "print(\"Detailed classification report:\")\n",
    "y_true, lr_pred = y_test, clf.predict(x_test)\n",
    "print(classification_report(y_true, lr_pred))"
   ]
  },
  {
   "cell_type": "code",
   "execution_count": 19,
   "metadata": {},
   "outputs": [
    {
     "output_type": "execute_result",
     "data": {
      "text/plain": [
       "array([0.41891892, 0.2       , 0.75      , 0.        , 0.        ,\n",
       "       0.        , 0.        , 0.        , 0.        , 0.09285714,\n",
       "       0.18686869, 0.04878049, 0.76923077, 0.05393258, 0.7704918 ,\n",
       "       0.84210526, 0.12217195, 0.48148148, 0.        , 0.        ,\n",
       "       0.        , 1.        , 0.        , 0.        ])"
      ]
     },
     "metadata": {},
     "execution_count": 19
    }
   ],
   "source": [
    "x_train[2]"
   ]
  },
  {
   "cell_type": "code",
   "execution_count": 23,
   "metadata": {},
   "outputs": [],
   "source": [
    "pickle.dump(clf, open('model.pkl','wb'))"
   ]
  },
  {
   "cell_type": "code",
   "execution_count": 25,
   "metadata": {},
   "outputs": [],
   "source": [
    "model = pickle.load(open('model.pkl','rb'))"
   ]
  },
  {
   "cell_type": "code",
   "execution_count": 73,
   "metadata": {},
   "outputs": [
    {
     "output_type": "stream",
     "name": "stdout",
     "text": [
      "24\n"
     ]
    }
   ],
   "source": [
    "print(len(cols))"
   ]
  },
  {
   "cell_type": "code",
   "execution_count": 74,
   "metadata": {},
   "outputs": [
    {
     "output_type": "execute_result",
     "data": {
      "text/plain": [
       "{'age': 68.0,\n",
       " 'bp': 60.0,\n",
       " 'sg': 1.025,\n",
       " 'al': 0.0,\n",
       " 'su': 0.0,\n",
       " 'rbc': 0.0,\n",
       " 'pc': 0.0,\n",
       " 'pcc': 0.0,\n",
       " 'ba': 0.0,\n",
       " 'bgr': 125.0,\n",
       " 'bu': 41.0,\n",
       " 'sc': 1.1,\n",
       " 'sod': 139.0,\n",
       " 'pot': 3.8,\n",
       " 'hemo': 17.4,\n",
       " 'pcv': '50',\n",
       " 'wc': '6700',\n",
       " 'rc': '6.1',\n",
       " 'htn': 0.0,\n",
       " 'dm': 0.0,\n",
       " 'cad': 0.0,\n",
       " 'appet': 1.0,\n",
       " 'pe': 0.0,\n",
       " 'ane': 0.0}"
      ]
     },
     "metadata": {},
     "execution_count": 74
    }
   ],
   "source": [
    "a = {}\n",
    "for i,j in zip(cols,vals):\n",
    "    a[i] = j\n",
    "a"
   ]
  },
  {
   "cell_type": "code",
   "execution_count": null,
   "metadata": {},
   "outputs": [],
   "source": []
  }
 ]
}