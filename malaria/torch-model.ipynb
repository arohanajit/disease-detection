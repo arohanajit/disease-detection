{
  "nbformat": 4,
  "nbformat_minor": 0,
  "metadata": {
    "colab": {
      "name": "Untitled9.ipynb",
      "provenance": [],
      "private_outputs": true,
      "authorship_tag": "ABX9TyOk7eaJ1eQow35UqcgBfVWY",
      "include_colab_link": true
    },
    "kernelspec": {
      "name": "python3",
      "display_name": "Python 3"
    },
    "accelerator": "GPU"
  },
  "cells": [
    {
      "cell_type": "markdown",
      "metadata": {
        "id": "view-in-github",
        "colab_type": "text"
      },
      "source": [
        "<a href=\"https://colab.research.google.com/github/arohanajit/disease-detector/blob/master/malaria/torch-model.ipynb\" target=\"_parent\"><img src=\"https://colab.research.google.com/assets/colab-badge.svg\" alt=\"Open In Colab\"/></a>"
      ]
    },
    {
      "cell_type": "code",
      "metadata": {
        "id": "ae-aJx6UDHxC",
        "colab_type": "code",
        "colab": {}
      },
      "source": [
        "import os\n",
        "import numpy as np\n",
        "import pandas as pd\n",
        "import matplotlib.pyplot as plt\n",
        "import torch\n",
        "import torch.nn as nn\n",
        "import torch.nn.functional as F\n",
        "from torchsummary import summary\n",
        "from torch import optim\n",
        "from torch.utils.data import DataLoader, TensorDataset, random_split\n",
        "from torch.utils.data.sampler import SubsetRandomSampler\n",
        "from torchvision.datasets import ImageFolder\n",
        "import torchvision.transforms as transforms\n",
        "from sklearn.model_selection import train_test_split\n",
        "from sklearn.preprocessing import MinMaxScaler\n",
        "from sklearn.metrics import accuracy_score\n",
        "from tqdm import tqdm_notebook\n",
        "import shutil\n",
        "train_on_gpu = torch.cuda.is_available()\n",
        "print(train_on_gpu)"
      ],
      "execution_count": 0,
      "outputs": []
    },
    {
      "cell_type": "code",
      "metadata": {
        "id": "5hwgz5EuDTwZ",
        "colab_type": "code",
        "colab": {}
      },
      "source": [
        "%%capture\n",
        "if 'loader.py' not in os.listdir():\n",
        "    !wget https://raw.githubusercontent.com/arohanajit/disease-detector/master/loader.py\n",
        "import loader\n",
        "if 'cell-images-for-detecting-malaria.zip' not in os.listdir():\n",
        "    loader.load_data()\n",
        "    !kaggle datasets download -d iarunava/cell-images-for-detecting-malaria\n",
        "    !unzip cell-images-for-detecting-malaria.zip\n",
        "    shutil.rmtree('cell_images/cell_images', ignore_errors=True)"
      ],
      "execution_count": 0,
      "outputs": []
    },
    {
      "cell_type": "code",
      "metadata": {
        "id": "czaRe2OZUozK",
        "colab_type": "code",
        "colab": {}
      },
      "source": [
        "data_transforms = transforms.Compose([\n",
        "    transforms.Resize((50,50)),\n",
        "    transforms.RandomRotation(degrees=30),\n",
        "    transforms.RandomHorizontalFlip(),\n",
        "    transforms.ToTensor(),\n",
        "    transforms.Normalize(mean=[0.485, 0.456, 0.406],\n",
        "                        std=[0.229, 0.224, 0.225])\n",
        "    ])\n"
      ],
      "execution_count": 0,
      "outputs": []
    },
    {
      "cell_type": "code",
      "metadata": {
        "id": "qI0yExqEZLU8",
        "colab_type": "code",
        "colab": {}
      },
      "source": [
        "data = ImageFolder('cell_images/',transform=data_transforms)\n",
        "valid_size = 0.15\n",
        "test_size = 0.15\n",
        "print(len(data))"
      ],
      "execution_count": 0,
      "outputs": []
    },
    {
      "cell_type": "code",
      "metadata": {
        "id": "iXRDXhGdVeJV",
        "colab_type": "code",
        "colab": {}
      },
      "source": [
        "num_train = len(data)\n",
        "indices = list(range(num_train))\n",
        "np.random.shuffle(indices)\n",
        "valid_split = int(np.floor((valid_size) * num_train))\n",
        "test_split = int(np.floor((valid_size+test_size) * num_train))\n",
        "valid_idx, test_idx, train_idx = indices[:valid_split], indices[valid_split:test_split], indices[test_split:]\n",
        "\n",
        "print(len(valid_idx), len(test_idx), len(train_idx))\n",
        "\n",
        "# define samplers for obtaining training and validation batches\n",
        "train_sampler = SubsetRandomSampler(train_idx)\n",
        "valid_sampler = SubsetRandomSampler(valid_idx)\n",
        "test_sampler = SubsetRandomSampler(test_idx)\n",
        "\n",
        "\n",
        "loaders = {\n",
        "    'train': torch.utils.data.DataLoader(data, batch_size=64, sampler=train_sampler),\n",
        "    'test': torch.utils.data.DataLoader(data, batch_size=32, sampler=test_sampler),\n",
        "    'valid': torch.utils.data.DataLoader(data, batch_size=32, sampler=valid_sampler),\n",
        "}"
      ],
      "execution_count": 0,
      "outputs": []
    },
    {
      "cell_type": "code",
      "metadata": {
        "id": "cku4G8qvb2MR",
        "colab_type": "code",
        "colab": {}
      },
      "source": [
        "import matplotlib.pyplot as plt\n",
        "%matplotlib inline\n",
        "\n",
        "class_labels = ['Parasitized','Healthy']\n",
        "def imshow(img):\n",
        "    img = img / 2 + 0.5  \n",
        "    plt.imshow(np.transpose(img, (1, 2, 0)))\n",
        "\n",
        "dataiter = iter(loaders['train'])\n",
        "images, labels = dataiter.next()\n",
        "print(images.shape,labels.shape)\n",
        "images = images.numpy() \n",
        "fig = plt.figure(figsize=(25, 16))\n",
        "\n",
        "for idx in np.arange(20):\n",
        "    ax = fig.add_subplot(4, 10/2, idx+1, xticks=[], yticks=[])\n",
        "    imshow(images[idx])\n",
        "    ax.set_title(class_labels[int(labels[idx])],fontsize=20,color='white')"
      ],
      "execution_count": 0,
      "outputs": []
    },
    {
      "cell_type": "code",
      "metadata": {
        "id": "pXPgktYZmB9K",
        "colab_type": "code",
        "colab": {}
      },
      "source": [
        "# class MosquitoNet(nn.Module):\n",
        "    \n",
        "#     def __init__(self):\n",
        "#         super(MosquitoNet, self).__init__()\n",
        "        \n",
        "#         self.layer1 = nn.Sequential(\n",
        "#             nn.Conv2d(3, 16, kernel_size=5, stride=1, padding=2),\n",
        "#             nn.BatchNorm2d(16),\n",
        "#             nn.ReLU(),\n",
        "#             nn.MaxPool2d(kernel_size=2, stride=2)\n",
        "#         )\n",
        "        \n",
        "#         self.layer2 = nn.Sequential(\n",
        "#             nn.Conv2d(16, 32, kernel_size=5, stride=1, padding=2),\n",
        "#             nn.BatchNorm2d(32),\n",
        "#             nn.ReLU(),\n",
        "#             nn.MaxPool2d(kernel_size=2, stride=2)\n",
        "#         )\n",
        "        \n",
        "#         self.layer3 = nn.Sequential(\n",
        "#             nn.Conv2d(32, 64, kernel_size=3, padding=1),\n",
        "#             nn.BatchNorm2d(64),\n",
        "#             nn.ReLU(),\n",
        "#             nn.MaxPool2d(kernel_size=2, stride=2)\n",
        "#         )\n",
        "            \n",
        "#         self.fc1 = nn.Linear(64*15*15, 512)\n",
        "#         self.fc2 = nn.Linear(512, 128)\n",
        "#         self.fc3 = nn.Linear(128, 2)\n",
        "#         self.drop = nn.Dropout2d(0.2)\n",
        "        \n",
        "#     def forward(self, x):\n",
        "#         out = self.layer1(x)\n",
        "#         out = self.layer2(out)\n",
        "#         out = self.layer3(out)\n",
        "#         out = out.view(out.size(0), -1)    # flatten out a input for Dense Layer\n",
        "#         out = self.fc1(out)\n",
        "#         out = F.relu(out)\n",
        "#         out = self.drop(out)\n",
        "#         out = self.fc2(out)\n",
        "#         out = F.relu(out)\n",
        "#         out = self.drop(out)\n",
        "#         out = self.fc3(out)\n",
        "        \n",
        "#         return out"
      ],
      "execution_count": 0,
      "outputs": []
    },
    {
      "cell_type": "code",
      "metadata": {
        "id": "j2H246AtmHfH",
        "colab_type": "code",
        "colab": {}
      },
      "source": [
        "# model = MosquitoNet()\n",
        "# model.to(device)\n",
        "# print(summary(model,(3,120,120)))\n",
        "# error = nn.CrossEntropyLoss()\n",
        "# learning_rate = 0.001\n",
        "# optimizer = torch.optim.Adam(model.parameters(), lr=learning_rate)"
      ],
      "execution_count": 0,
      "outputs": []
    },
    {
      "cell_type": "code",
      "metadata": {
        "id": "35FHwpBRdD6E",
        "colab_type": "code",
        "colab": {}
      },
      "source": [
        "class Net(nn.Module):\n",
        "    \n",
        "    def __init__(self):\n",
        "        super(Net, self).__init__()\n",
        "        \n",
        "        self.block = nn.Sequential(\n",
        "            nn.Conv2d(3, 32, kernel_size=3, stride=1, padding=1),\n",
        "            nn.MaxPool2d(kernel_size=2, stride=2),\n",
        "            nn.ReLU(),\n",
        "            nn.BatchNorm2d(32),\n",
        "            nn.Dropout(p=0.2)\n",
        "        )\n",
        "        self.block2 = nn.Sequential(\n",
        "            nn.Conv2d(32, 32, kernel_size=5, stride=1, padding=1),\n",
        "            nn.MaxPool2d(kernel_size=2, stride=2),\n",
        "            nn.ReLU(),\n",
        "            nn.BatchNorm2d(32),\n",
        "            nn.Dropout(p=0.2)\n",
        "        )\n",
        "        \n",
        "            \n",
        "        self.fc1 = nn.Linear(32*4*4, 512)\n",
        "        self.batch_norm1 = nn.BatchNorm2d(512)\n",
        "        self.dropout = nn.Dropout(p=0.5)\n",
        "        self.fc2 = nn.Linear(512, 2)\n",
        "        \n",
        "    def forward(self, x):\n",
        "        out = self.block(x)\n",
        "        out = self.block2(out)\n",
        "        out = self.block2(out)\n",
        "        out = out.view(out.size(0), -1)   # flatten out a input for Dense Layer\n",
        "        out = self.fc1(out)\n",
        "        out = F.relu(out)\n",
        "        out = self.dropout(out)\n",
        "        out = self.fc2(out)\n",
        "        \n",
        "        return out"
      ],
      "execution_count": 0,
      "outputs": []
    },
    {
      "cell_type": "code",
      "metadata": {
        "id": "xUP_u37Aj_k4",
        "colab_type": "code",
        "colab": {}
      },
      "source": [
        "device = torch.device(\"cuda\" if torch.cuda.is_available() else \"cpu\") # PyTorch v0.4.0\n",
        "model = Net().to(device)\n",
        "print(summary(model,(3,50,50)))"
      ],
      "execution_count": 0,
      "outputs": []
    },
    {
      "cell_type": "code",
      "metadata": {
        "id": "E039YxozmxGh",
        "colab_type": "code",
        "colab": {}
      },
      "source": [
        "import torch.optim as optim\n",
        "criterion = nn.CrossEntropyLoss()\n",
        "optimizer = optim.Adam(model.parameters(), lr=0.001)"
      ],
      "execution_count": 0,
      "outputs": []
    },
    {
      "cell_type": "code",
      "metadata": {
        "id": "D9_HjBUmFgkF",
        "colab_type": "code",
        "colab": {}
      },
      "source": [
        "def Graphing(train,test):\n",
        "    plt.plot(train)\n",
        "    plt.plot(test)\n",
        "    plt.legend(['Train Loss','Validation Loss'])"
      ],
      "execution_count": 0,
      "outputs": []
    },
    {
      "cell_type": "code",
      "metadata": {
        "id": "QpKVWtsNFihn",
        "colab_type": "code",
        "colab": {}
      },
      "source": [
        "# the following import is required for training to be robust to truncated images\n",
        "from PIL import ImageFile\n",
        "ImageFile.LOAD_TRUNCATED_IMAGES = True\n",
        "from tqdm.notebook import tqdm\n",
        "\n",
        "def train(n_epochs, loaders, model, optimizer, criterion, train_on_gpu, save_path):\n",
        "    \"\"\"returns trained model\"\"\"\n",
        "    # initialize tracker for minimum validation loss\n",
        "    valid_loss_min = np.Inf \n",
        "    train = []\n",
        "    test = []\n",
        "    \n",
        "    for epoch in tqdm(range(1, n_epochs+1)):\n",
        "        # initialize variables to monitor training and validation loss\n",
        "        train_loss = 0.0\n",
        "        valid_loss = 0.0\n",
        "        valid_min = 9999\n",
        "        ###################\n",
        "        # train the model #\n",
        "        ###################\n",
        "        model.train()\n",
        "        for batch_idx, (data, target) in enumerate(loaders['train']):\n",
        "            # move to GPU\n",
        "            if train_on_gpu:\n",
        "                data, target = data.cuda(), target.cuda()\n",
        "            ## find the loss and update the model parameters accordingly\n",
        "            ## record the average training loss, using something like\n",
        "            ## train_loss = train_loss + ((1 / (batch_idx + 1)) * (loss.data - train_loss))\n",
        "            optimizer.zero_grad()\n",
        "            out = model(data)\n",
        "            loss = criterion(out,target)\n",
        "            loss.backward()\n",
        "            optimizer.step()\n",
        "            train_loss = train_loss + ((1 / (batch_idx + 1)) * (loss.data - train_loss))\n",
        "            if batch_idx%50==0:\n",
        "                print('Batch: {}\\tEpoch: {} \\tTraining Loss: {:.6f}'.format(\n",
        "                batch_idx,\n",
        "                epoch, \n",
        "                train_loss\n",
        "                ))\n",
        "\n",
        "\n",
        "\n",
        "        ######################    \n",
        "        # validate the model #\n",
        "        ######################\n",
        "        model.eval()\n",
        "        for batch_idx, (data, target) in enumerate(loaders['valid']):\n",
        "            # move to GPU\n",
        "            if train_on_gpu:\n",
        "                data, target = data.cuda(), target.cuda()\n",
        "            output = model(data)\n",
        "            loss = criterion(output,target)\n",
        "            valid_loss = valid_loss + ((1 / (batch_idx + 1)) * (loss.data - valid_loss))\n",
        "            ## update the average validation loss\n",
        "\n",
        "            \n",
        "        train.append(train_loss)\n",
        "        test.append (valid_loss)\n",
        "        # print training/validation statistics \n",
        "        print('Epoch: {} \\tTraining Loss: {:.6f} \\tValidation Loss: {:.6f}'.format(\n",
        "            epoch, \n",
        "            train_loss,\n",
        "            valid_loss\n",
        "            ))\n",
        "        if valid_loss <= valid_loss_min:\n",
        "            print('Validation loss decreased ({:.6f} --> {:.6f}).  Saving model ...'.format(\n",
        "            valid_loss_min,\n",
        "            valid_loss))\n",
        "            torch.save(model.state_dict(), save_path)\n",
        "            valid_loss_min = valid_loss\n",
        "        \n",
        "        \n",
        "            \n",
        "    # return trained model\n",
        "    Graphing(train,test)\n",
        "    return model\n",
        "\n",
        "\n",
        "# train the model\n",
        "train(20, loaders, model, optimizer, criterion, train_on_gpu, 'model.pt')\n",
        "\n",
        "# load the model that got the best validation accuracy\n",
        "model.load_state_dict(torch.load('model.pt'))"
      ],
      "execution_count": 0,
      "outputs": []
    },
    {
      "cell_type": "code",
      "metadata": {
        "id": "XKlLjyTOGEf8",
        "colab_type": "code",
        "colab": {}
      },
      "source": [
        "def test(loaders, model, criterion, use_cuda):\n",
        "\n",
        "    # monitor test loss and accuracy\n",
        "    test_loss = 0.\n",
        "    correct = 0\n",
        "    total = 0.\n",
        "\n",
        "    model.eval()\n",
        "    for batch_idx, (data, target) in enumerate(loaders['test']):\n",
        "        # move to GPU\n",
        "        if use_cuda:\n",
        "            data, target = data.cuda(), target.cuda()\n",
        "        # forward pass: compute predicted outputs by passing inputs to the model\n",
        "        output = model(data)\n",
        "        # calculate the loss\n",
        "        loss = criterion(output, target)\n",
        "        # update average test loss \n",
        "        test_loss = test_loss + ((1 / (batch_idx + 1)) * (loss.data - test_loss))\n",
        "        # convert output probabilities to predicted class\n",
        "        pred = output.data.max(1, keepdim=True)[1]\n",
        "        # compare predictions to true label\n",
        "        correct += np.sum(np.squeeze(pred.eq(target.data.view_as(pred))).cpu().numpy())\n",
        "        total += data.size(0)\n",
        "            \n",
        "    print('Test Loss: {:.6f}\\n'.format(test_loss))\n",
        "\n",
        "    print('\\nTest Accuracy: %2d%% (%2d/%2d)' % (\n",
        "        100. * correct / total, correct, total))\n",
        "\n",
        "# call test function    \n",
        "test(loaders, model, criterion, train_on_gpu)"
      ],
      "execution_count": 0,
      "outputs": []
    },
    {
      "cell_type": "code",
      "metadata": {
        "id": "c6dJJ-rHItB2",
        "colab_type": "code",
        "colab": {}
      },
      "source": [
        ""
      ],
      "execution_count": 0,
      "outputs": []
    }
  ]
}