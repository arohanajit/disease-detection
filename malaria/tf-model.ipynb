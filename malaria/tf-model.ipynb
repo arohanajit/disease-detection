{
  "nbformat": 4,
  "nbformat_minor": 0,
  "metadata": {
    "colab": {
      "name": "Untitled9.ipynb",
      "provenance": [],
      "private_outputs": true,
      "include_colab_link": true
    },
    "kernelspec": {
      "name": "python3",
      "display_name": "Python 3"
    },
    "accelerator": "GPU"
  },
  "cells": [
    {
      "cell_type": "markdown",
      "metadata": {
        "id": "view-in-github",
        "colab_type": "text"
      },
      "source": [
        "<a href=\"https://colab.research.google.com/github/arohanajit/disease-detector/blob/master/malaria/tf-model.ipynb\" target=\"_parent\"><img src=\"https://colab.research.google.com/assets/colab-badge.svg\" alt=\"Open In Colab\"/></a>"
      ]
    },
    {
      "cell_type": "code",
      "metadata": {
        "id": "ae-aJx6UDHxC",
        "colab_type": "code",
        "colab": {}
      },
      "source": [
        "import numpy as np\n",
        "import pandas as pd\n",
        "import matplotlib.pyplot as plt\n",
        "\n",
        "import os\n",
        "import glob\n",
        "import cv2\n",
        "import tensorflow as tf\n",
        "from keras import layers\n",
        "import keras\n",
        "from keras import optimizers\n",
        "from keras.layers import Dropout , Input, Add, Dense, Activation, ZeroPadding2D, BatchNormalization, Flatten, Conv2D, AveragePooling2D, MaxPooling2D, GlobalMaxPooling2D\n",
        "from keras.models import Model, load_model, Sequential\n",
        "from keras.initializers import glorot_uniform\n",
        "from keras.preprocessing.image import img_to_array\n",
        "from keras.preprocessing.image import load_img\n",
        "from keras.utils import np_utils\n",
        "import keras.backend as K\n",
        "import seaborn as sns\n",
        "from PIL import Image\n",
        "from sklearn.model_selection import train_test_split\n",
        "import shutil"
      ],
      "execution_count": 0,
      "outputs": []
    },
    {
      "cell_type": "code",
      "metadata": {
        "id": "5hwgz5EuDTwZ",
        "colab_type": "code",
        "colab": {}
      },
      "source": [
        "if 'loader.py' not in os.listdir():\n",
        "    !wget https://raw.githubusercontent.com/arohanajit/disease-detector/master/loader.py\n",
        "import loader\n",
        "if 'cell-images-for-detecting-malaria.zip' not in os.listdir():\n",
        "    loader.load_data()\n",
        "    !kaggle datasets download -d iarunava/cell-images-for-detecting-malaria\n",
        "    !unzip cell-images-for-detecting-malaria.zip\n",
        "    shutil.rmtree('cell_images/cell_images')"
      ],
      "execution_count": 0,
      "outputs": []
    },
    {
      "cell_type": "code",
      "metadata": {
        "id": "W3VpTbDn-0wx",
        "colab_type": "code",
        "colab": {}
      },
      "source": [
        "parasitized_data = os.listdir('cell_images/Parasitized')\n",
        "print(parasitized_data[:10]) #the output we get are the .png files\n",
        "\n",
        "uninfected_data = os.listdir('cell_images/Uninfected')\n",
        "print('\\n')\n",
        "print(uninfected_data[:10])"
      ],
      "execution_count": 0,
      "outputs": []
    },
    {
      "cell_type": "code",
      "metadata": {
        "id": "czaRe2OZUozK",
        "colab_type": "code",
        "colab": {}
      },
      "source": [
        "plt.figure(figsize = (12,12))\n",
        "for i in range(4):\n",
        "    plt.subplot(1, 4, i+1)\n",
        "    img = cv2.imread('cell_images/Parasitized' + \"/\" + parasitized_data[i])\n",
        "    plt.imshow(img)\n",
        "    plt.title('PARASITIZED : 1')\n",
        "    plt.tight_layout()\n",
        "plt.show()"
      ],
      "execution_count": 0,
      "outputs": []
    },
    {
      "cell_type": "code",
      "metadata": {
        "id": "opHBoc8XUuWB",
        "colab_type": "code",
        "colab": {}
      },
      "source": [
        "plt.figure(figsize = (12,12))\n",
        "for i in range(4):\n",
        "    plt.subplot(1, 4, i+1)\n",
        "    img = cv2.imread('cell_images/Uninfected' + \"/\" + uninfected_data[i+1])\n",
        "    plt.imshow(img)\n",
        "    plt.title('UNINFECTED : 0')\n",
        "    plt.tight_layout()\n",
        "plt.show()"
      ],
      "execution_count": 0,
      "outputs": []
    },
    {
      "cell_type": "code",
      "metadata": {
        "id": "q1g0C6Vl-4ya",
        "colab_type": "code",
        "colab": {}
      },
      "source": [
        "data = []\n",
        "labels = []\n",
        "for img in parasitized_data:\n",
        "    try:\n",
        "        img_read = plt.imread('cell_images/Parasitized/' + img)\n",
        "        img_resize = cv2.resize(img_read, (50, 50))\n",
        "        img_array = img_to_array(img_resize)\n",
        "        data.append(img_array)\n",
        "        labels.append(1)\n",
        "    except:\n",
        "        None\n",
        "        \n",
        "for img in uninfected_data:\n",
        "    try:\n",
        "        img_read = plt.imread('cell_images/Uninfected/' + img)\n",
        "        img_resize = cv2.resize(img_read, (50, 50))\n",
        "        img_array = img_to_array(img_resize)\n",
        "        data.append(img_array)\n",
        "        labels.append(0)\n",
        "    except:\n",
        "        None"
      ],
      "execution_count": 0,
      "outputs": []
    },
    {
      "cell_type": "code",
      "metadata": {
        "id": "rRRmQC68_ZWW",
        "colab_type": "code",
        "colab": {}
      },
      "source": [
        "plt.imshow(data[0])\n",
        "plt.show()"
      ],
      "execution_count": 0,
      "outputs": []
    },
    {
      "cell_type": "code",
      "metadata": {
        "id": "lustwbFbU3K3",
        "colab_type": "code",
        "colab": {}
      },
      "source": [
        "image_data = np.array(data)\n",
        "labels = np.array(labels)"
      ],
      "execution_count": 0,
      "outputs": []
    },
    {
      "cell_type": "code",
      "metadata": {
        "id": "13z7MHNnU6gm",
        "colab_type": "code",
        "colab": {}
      },
      "source": [
        "idx = np.arange(image_data.shape[0])\n",
        "np.random.shuffle(idx)\n",
        "image_data = image_data[idx]\n",
        "labels = labels[idx]"
      ],
      "execution_count": 0,
      "outputs": []
    },
    {
      "cell_type": "code",
      "metadata": {
        "id": "0cTvNsL4U8nH",
        "colab_type": "code",
        "colab": {}
      },
      "source": [
        "from sklearn.model_selection import train_test_split\n",
        "x_train, x_test, y_train, y_test = train_test_split(image_data, labels, test_size = 0.2, random_state = 101)"
      ],
      "execution_count": 0,
      "outputs": []
    },
    {
      "cell_type": "code",
      "metadata": {
        "id": "sVqudA_FU_UF",
        "colab_type": "code",
        "colab": {}
      },
      "source": [
        "y_train = np_utils.to_categorical(y_train, num_classes = 2)\n",
        "y_test = np_utils.to_categorical(y_test, num_classes = 2)"
      ],
      "execution_count": 0,
      "outputs": []
    },
    {
      "cell_type": "code",
      "metadata": {
        "id": "_cQoBSvmVGOj",
        "colab_type": "code",
        "colab": {}
      },
      "source": [
        "print(f'SHAPE OF TRAINING IMAGE DATA : {x_train.shape}')\n",
        "print(f'SHAPE OF TESTING IMAGE DATA : {x_test.shape}')\n",
        "print(f'SHAPE OF TRAINING LABELS : {y_train.shape}')\n",
        "print(f'SHAPE OF TESTING LABELS : {y_test.shape}')"
      ],
      "execution_count": 0,
      "outputs": []
    },
    {
      "cell_type": "code",
      "metadata": {
        "id": "AC0lR8vvTgiZ",
        "colab_type": "code",
        "colab": {}
      },
      "source": [
        "def CNNbuild(height, width, classes, channels):\n",
        "    model = Sequential()\n",
        "    \n",
        "    inputShape = (height, width, channels)\n",
        "    chanDim = -1\n",
        "    \n",
        "    if K.image_data_format() == 'channels_first':\n",
        "        inputShape = (channels, height, width)\n",
        "    model.add(Conv2D(32, (3,3), activation = 'relu', input_shape = inputShape))\n",
        "    model.add(MaxPooling2D(2,2))\n",
        "    model.add(BatchNormalization(axis = chanDim))\n",
        "    model.add(Dropout(0.2))\n",
        "\n",
        "    model.add(Conv2D(32, (3,3), activation = 'relu'))\n",
        "    model.add(MaxPooling2D(2,2))\n",
        "    model.add(BatchNormalization(axis = chanDim))\n",
        "    model.add(Dropout(0.2))\n",
        "\n",
        "    model.add(Conv2D(32, (3,3), activation = 'relu'))\n",
        "    model.add(MaxPooling2D(2,2))\n",
        "    model.add(BatchNormalization(axis = chanDim))\n",
        "    model.add(Dropout(0.2))\n",
        "\n",
        "    model.add(Flatten())\n",
        "    \n",
        "    model.add(Dense(512, activation = 'relu'))\n",
        "    model.add(BatchNormalization(axis = chanDim))\n",
        "    model.add(Dropout(0.5))\n",
        "    model.add(Dense(classes, activation = 'softmax'))\n",
        "    \n",
        "    return model"
      ],
      "execution_count": 0,
      "outputs": []
    },
    {
      "cell_type": "code",
      "metadata": {
        "id": "Fp_FtOybUKT-",
        "colab_type": "code",
        "colab": {}
      },
      "source": [
        "height = 50\n",
        "width = 50\n",
        "classes = 2\n",
        "channels = 3\n",
        "model = CNNbuild(height = height, width = width, classes = classes, channels = channels)\n",
        "model.summary()"
      ],
      "execution_count": 0,
      "outputs": []
    },
    {
      "cell_type": "code",
      "metadata": {
        "id": "NgQ3eClqVLHb",
        "colab_type": "code",
        "colab": {}
      },
      "source": [
        "model.compile(loss = 'categorical_crossentropy', optimizer = 'Adam', metrics = ['accuracy'])"
      ],
      "execution_count": 0,
      "outputs": []
    },
    {
      "cell_type": "code",
      "metadata": {
        "id": "Mzxl6RqgVPIT",
        "colab_type": "code",
        "colab": {}
      },
      "source": [
        "h = model.fit(x_train, y_train, epochs = 20, batch_size = 32)"
      ],
      "execution_count": 0,
      "outputs": []
    },
    {
      "cell_type": "code",
      "metadata": {
        "id": "JDJbHEFgVqkA",
        "colab_type": "code",
        "colab": {}
      },
      "source": [
        "plt.figure(figsize = (18,8))\n",
        "plt.plot(range(20), h.history['accuracy'], label = 'Training Accuracy')\n",
        "plt.plot(range(20), h.history['loss'], label = 'Taining Loss')\n",
        "#ax1.set_xticks(np.arange(0, 31, 5))\n",
        "plt.xlabel(\"Number of Epoch's\")\n",
        "plt.ylabel('Accuracy/Loss Value')\n",
        "plt.title('Training Accuracy and Training Loss')\n",
        "plt.legend(loc = \"best\")"
      ],
      "execution_count": 0,
      "outputs": []
    },
    {
      "cell_type": "code",
      "metadata": {
        "id": "oNZX4fMLVPhu",
        "colab_type": "code",
        "colab": {}
      },
      "source": [
        "predictions = model.evaluate(x_test, y_test)\n",
        "print(f'LOSS : {predictions[0]}')\n",
        "print(f'ACCURACY : {predictions[1]}')"
      ],
      "execution_count": 0,
      "outputs": []
    },
    {
      "cell_type": "code",
      "metadata": {
        "id": "iXRDXhGdVeJV",
        "colab_type": "code",
        "colab": {}
      },
      "source": [
        ""
      ],
      "execution_count": 0,
      "outputs": []
    }
  ]
}